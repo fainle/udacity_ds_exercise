{
 "cells": [
  {
   "cell_type": "code",
   "execution_count": 21,
   "metadata": {},
   "outputs": [],
   "source": [
    "import numpy as np\n",
    "import pandas as pd\n",
    "\n",
    "np.random.seed(42)\n",
    "\n",
    "def stepFunction(t):\n",
    "    if t >= 0:\n",
    "        return 1\n",
    "    return 0\n",
    "\n",
    "## 设置函数\n",
    "def prediction(X, W, b):\n",
    "    return stepFunction((np.matmul(X,W)+b)[0])\n",
    "\n",
    "## 计算新权重\n",
    "def perceptronStep(X, y, W, b, learn_rate = 0.01):\n",
    "    for i in range(len(X)):\n",
    "        y_hat = prediction(X[i],W,b)\n",
    "        \n",
    "        if y[i] - y_hat == 1:\n",
    "            W[0] += X[i][0]*learn_rate\n",
    "            W[1] += X[i][1]*learn_rate\n",
    "        elif y[i] - y_hat == -1:\n",
    "            W[0] -= X[i][0]*learn_rate\n",
    "            W[1] -= X[i][1]*learn_rate\n",
    "    \n",
    "    return W, b\n",
    "    \n",
    "## 感知器算法\n",
    "def trainPerceptronAlgorithm(X, y, learn_rate = 0.01, num_epochs = 25):\n",
    "    x_min, x_max = min(X.T[0]), max(X.T[0])\n",
    "    y_min, y_max = min(X.T[1]), max(X.T[1])\n",
    "    W = np.array(np.random.rand(2,1))\n",
    "    b = np.random.rand(1)[0] + x_max\n",
    "    # These are the solution lines that get plotted below.\n",
    "    boundary_lines = []\n",
    "    for i in range(num_epochs):\n",
    "        # In each epoch, we apply the perceptron step.\n",
    "        W, b = perceptronStep(X, y, W, b, learn_rate)\n",
    "        boundary_lines.append((-W[0]/W[1], -b/W[1]))\n",
    "    return boundary_lines\n",
    "\n",
    "\n",
    "data = np.asarray(pd.read_csv('data.csv'))\n",
    "x = data[:, 0:data.shape[1]-1]\n",
    "y = data[:, -1]\n",
    "\n",
    "res = trainPerceptronAlgorithm(x, y)"
   ]
  },
  {
   "cell_type": "code",
   "execution_count": 22,
   "metadata": {},
   "outputs": [
    {
     "name": "stdout",
     "output_type": "stream",
     "text": [
      "[(array([-0.05239463]), array([-2.8808521])), (array([1.23772563]), array([-6.88108786])), (array([-6.69291623]), array([17.70920662])), (array([-2.23027859]), array([3.87204494])), (array([-1.69006436]), array([2.19736513])), (array([-1.54903116]), array([1.76151734])), (array([-1.49916697]), array([1.60034642])), (array([-1.47231239]), array([1.50887035])), (array([-1.45280355]), array([1.45323219])), (array([-1.43476789]), array([1.40705089])), (array([-1.42196412]), array([1.38168698])), (array([-1.40961379]), array([1.35722131])), (array([-1.39904984]), array([1.3439204])), (array([-1.38869094]), array([1.33087767])), (array([-1.37853116]), array([1.31808566])), (array([-1.36856484]), array([1.30553722])), (array([-1.35878649]), array([1.29322545])), (array([-1.34919084]), array([1.28114372])), (array([-1.33977282]), array([1.26928564])), (array([-1.33052755]), array([1.25764507])), (array([-1.32145032]), array([1.24621606])), (array([-1.31253658]), array([1.23499291])), (array([-1.30378195]), array([1.2239701])), (array([-1.29518222]), array([1.21314232])), (array([-1.28673332]), array([1.20250443]))]\n"
     ]
    }
   ],
   "source": [
    "res = trainPerceptronAlgorithm(x, y)\n",
    "print(res)"
   ]
  },
  {
   "cell_type": "code",
   "execution_count": null,
   "metadata": {},
   "outputs": [],
   "source": []
  }
 ],
 "metadata": {
  "kernelspec": {
   "display_name": "Python 3",
   "language": "python",
   "name": "python3"
  },
  "language_info": {
   "codemirror_mode": {
    "name": "ipython",
    "version": 3
   },
   "file_extension": ".py",
   "mimetype": "text/x-python",
   "name": "python",
   "nbconvert_exporter": "python",
   "pygments_lexer": "ipython3",
   "version": "3.7.4"
  }
 },
 "nbformat": 4,
 "nbformat_minor": 4
}
