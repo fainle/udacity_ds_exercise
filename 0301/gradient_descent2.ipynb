{
 "cells": [
  {
   "cell_type": "code",
   "execution_count": 11,
   "metadata": {},
   "outputs": [
    {
     "name": "stdout",
     "output_type": "stream",
     "text": [
      "[-0.0039638  -0.01189141]\n"
     ]
    }
   ],
   "source": [
    "import numpy as np\n",
    "\n",
    "\n",
    "def sigmoid(x):\n",
    "    return 1 / (1 + np.exp(-x))\n",
    "\n",
    "def sigmoid_prime(x):\n",
    "    return sigmoid(x) * (1 - sigmoid(x))\n",
    "\n",
    "x = np.array([0.1, 0.3])\n",
    "# Target\n",
    "y = 0.2\n",
    "\n",
    "weights = np.array([-0.8, 0.5])\n",
    "\n",
    "learnrate = 0.5\n",
    "\n",
    "h = np.dot(x, weights)\n",
    "\n",
    "## (y-hat)\n",
    "nn_output = sigmoid(h)\n",
    "\n",
    "# error (y - y-hat)\n",
    "error = y - nn_output\n",
    "\n",
    "# f(x)\n",
    "output_grad = sigmoid_prime(h)\n",
    "\n",
    "error_term = error * output_grad\n",
    "\n",
    "# error term \n",
    "del_w = learnrate * error_term * x\n",
    "\n",
    "print(del_w)"
   ]
  },
  {
   "cell_type": "code",
   "execution_count": null,
   "metadata": {},
   "outputs": [],
   "source": []
  }
 ],
 "metadata": {
  "kernelspec": {
   "display_name": "Python 3",
   "language": "python",
   "name": "python3"
  },
  "language_info": {
   "codemirror_mode": {
    "name": "ipython",
    "version": 3
   },
   "file_extension": ".py",
   "mimetype": "text/x-python",
   "name": "python",
   "nbconvert_exporter": "python",
   "pygments_lexer": "ipython3",
   "version": "3.7.4"
  }
 },
 "nbformat": 4,
 "nbformat_minor": 4
}
