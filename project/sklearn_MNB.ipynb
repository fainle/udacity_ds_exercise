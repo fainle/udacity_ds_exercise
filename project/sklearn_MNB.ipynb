{
 "cells": [
  {
   "cell_type": "code",
   "execution_count": 1,
   "metadata": {},
   "outputs": [
    {
     "name": "stdout",
     "output_type": "stream",
     "text": [
      "train data number: 4136\n",
      "test data number: 1035\n"
     ]
    },
    {
     "name": "stderr",
     "output_type": "stream",
     "text": [
      "/data/anaconda3/lib/python3.7/site-packages/sklearn/utils/validation.py:724: DataConversionWarning: A column-vector y was passed when a 1d array was expected. Please change the shape of y to (n_samples, ), for example using ravel().\n",
      "  y = column_or_1d(y, warn=True)\n"
     ]
    },
    {
     "data": {
      "text/plain": [
       "0.8821256038647343"
      ]
     },
     "execution_count": 1,
     "metadata": {},
     "output_type": "execute_result"
    }
   ],
   "source": [
    "import pandas as pd\n",
    "import numpy as np\n",
    "\n",
    "from sklearn.feature_extraction.text import CountVectorizer, TfidfTransformer  # td-if\n",
    "from sklearn.model_selection import train_test_split # 用于切割数据\n",
    "from sklearn.naive_bayes import MultinomialNB # 朴素贝叶斯模型\n",
    "\n",
    "data = pd.read_csv('spam_ham_dataset.csv') # 载入数据\n",
    "\n",
    "x = data[['text']] # 特征\n",
    "y = data[['label']] # 值\n",
    "\n",
    "x_train, x_test, y_train, y_test = train_test_split(x, y, test_size=0.2) # 划分训练数据和测试数据 比例 1:4\n",
    "\n",
    "print('train data number: {d}'.format(d=len(x_train)))\n",
    "print('test data number: {d}'.format(d=len(x_test)))\n",
    "\n",
    "cv = CountVectorizer()\n",
    "cv.fit(x['text'])\n",
    "count = cv.transform(x_train['text'])\n",
    "\n",
    "tfidf = TfidfTransformer()\n",
    "tfidf.fit(count)\n",
    "tfidf_matrix = tfidf.transform(count)\n",
    "\n",
    "model = MultinomialNB()\n",
    "model.fit(tfidf_matrix, y_train)\n",
    "\n",
    "model.predict(tfidf.transform(cv.transform(x_test['text'])))\n",
    "\n",
    "model.score(tfidf.transform(cv.transform(x_test['text'])), y_test)\n"
   ]
  },
  {
   "cell_type": "code",
   "execution_count": 2,
   "metadata": {},
   "outputs": [
    {
     "data": {
      "text/plain": [
       "array(['ham', 'ham', 'ham', ..., 'ham', 'ham', 'spam'], dtype='<U4')"
      ]
     },
     "execution_count": 2,
     "metadata": {},
     "output_type": "execute_result"
    }
   ],
   "source": [
    "model.predict(tfidf.transform(cv.transform(x_test['text'])))"
   ]
  },
  {
   "cell_type": "code",
   "execution_count": null,
   "metadata": {},
   "outputs": [],
   "source": []
  }
 ],
 "metadata": {
  "kernelspec": {
   "display_name": "Python 3",
   "language": "python",
   "name": "python3"
  },
  "language_info": {
   "codemirror_mode": {
    "name": "ipython",
    "version": 3
   },
   "file_extension": ".py",
   "mimetype": "text/x-python",
   "name": "python",
   "nbconvert_exporter": "python",
   "pygments_lexer": "ipython3",
   "version": "3.7.4"
  }
 },
 "nbformat": 4,
 "nbformat_minor": 4
}
