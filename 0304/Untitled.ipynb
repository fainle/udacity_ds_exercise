{
 "cells": [
  {
   "cell_type": "code",
   "execution_count": 21,
   "metadata": {},
   "outputs": [],
   "source": [
    "import tensorflow as tf\n",
    "import numpy as np\n",
    "\n",
    "from keras.utils import np_utils\n",
    "from keras.models import Sequential\n",
    "from keras.layers.core import Dense, Activation\n",
    "\n",
    "tf.control_flow_ops = tf\n",
    "\n",
    "np.random.seed(42)\n",
    "\n",
    "X = np.array([[0,0],[0,1],[1,0],[1,1]]).astype('float32')\n",
    "y = np.array([[0],[1],[1],[0]]).astype('float32')\n",
    "\n",
    "y = np_utils.to_categorical(y)\n",
    "\n",
    "xor = Sequential()"
   ]
  },
  {
   "cell_type": "code",
   "execution_count": 51,
   "metadata": {},
   "outputs": [
    {
     "name": "stdout",
     "output_type": "stream",
     "text": [
      "Model: \"sequential_32\"\n",
      "_________________________________________________________________\n",
      "Layer (type)                 Output Shape              Param #   \n",
      "=================================================================\n",
      "dense_53 (Dense)             (None, 32)                96        \n",
      "_________________________________________________________________\n",
      "activation_52 (Activation)   (None, 32)                0         \n",
      "_________________________________________________________________\n",
      "dense_54 (Dense)             (None, 2)                 66        \n",
      "_________________________________________________________________\n",
      "activation_53 (Activation)   (None, 2)                 0         \n",
      "=================================================================\n",
      "Total params: 162\n",
      "Trainable params: 162\n",
      "Non-trainable params: 0\n",
      "_________________________________________________________________\n",
      "Epoch 1/10\n",
      "4/4 [==============================] - 0s 59ms/step - loss: 0.6917 - accuracy: 0.7500\n",
      "Epoch 2/10\n",
      "4/4 [==============================] - 0s 429us/step - loss: 0.6914 - accuracy: 0.7500\n",
      "Epoch 3/10\n",
      "4/4 [==============================] - 0s 610us/step - loss: 0.6910 - accuracy: 0.7500\n",
      "Epoch 4/10\n",
      "4/4 [==============================] - 0s 672us/step - loss: 0.6906 - accuracy: 0.7500\n",
      "Epoch 5/10\n",
      "4/4 [==============================] - 0s 1ms/step - loss: 0.6903 - accuracy: 0.7500\n",
      "Epoch 6/10\n",
      "4/4 [==============================] - 0s 711us/step - loss: 0.6899 - accuracy: 0.7500\n",
      "Epoch 7/10\n",
      "4/4 [==============================] - 0s 1ms/step - loss: 0.6895 - accuracy: 0.7500\n",
      "Epoch 8/10\n",
      "4/4 [==============================] - 0s 1ms/step - loss: 0.6892 - accuracy: 0.7500\n",
      "Epoch 9/10\n",
      "4/4 [==============================] - 0s 2ms/step - loss: 0.6888 - accuracy: 0.5000\n",
      "Epoch 10/10\n",
      "4/4 [==============================] - 0s 2ms/step - loss: 0.6884 - accuracy: 0.5000\n",
      "4/4 [==============================] - 0s 36ms/step\n",
      "\n",
      "Accuracy:  0.5\n",
      "\n",
      "Predictions:\n",
      "[[0.5091933  0.48496714]\n",
      " [0.6303954  0.6258483 ]\n",
      " [0.47981888 0.54873043]\n",
      " [0.59900534 0.67906535]]\n"
     ]
    }
   ],
   "source": [
    "# Building the model\n",
    "xor = Sequential()\n",
    "xor.add(Dense(32, input_dim=2))\n",
    "xor.add(Activation(\"tanh\"))\n",
    "xor.add(Dense(2))\n",
    "xor.add(Activation(\"sigmoid\"))\n",
    "\n",
    "xor.compile(loss=\"categorical_crossentropy\", optimizer=\"adam\", metrics = ['accuracy'])\n",
    "\n",
    "xor.summary()\n",
    "\n",
    "# Fitting the model\n",
    "history = xor.fit(X, y, epochs=10, verbose=1)\n",
    "\n",
    "# Scoring the model\n",
    "score = xor.evaluate(X, y)\n",
    "print(\"\\nAccuracy: \", score[-1])\n",
    "\n",
    "# Checking the predictions\n",
    "print(\"\\nPredictions:\")\n",
    "print(xor.predict_proba(X))\n"
   ]
  },
  {
   "cell_type": "code",
   "execution_count": 23,
   "metadata": {},
   "outputs": [
    {
     "data": {
      "text/plain": [
       "<keras.engine.sequential.Sequential at 0x62a61ef50>"
      ]
     },
     "execution_count": 23,
     "metadata": {},
     "output_type": "execute_result"
    }
   ],
   "source": [
    "xor"
   ]
  },
  {
   "cell_type": "code",
   "execution_count": null,
   "metadata": {},
   "outputs": [],
   "source": []
  }
 ],
 "metadata": {
  "kernelspec": {
   "display_name": "Python 3",
   "language": "python",
   "name": "python3"
  },
  "language_info": {
   "codemirror_mode": {
    "name": "ipython",
    "version": 3
   },
   "file_extension": ".py",
   "mimetype": "text/x-python",
   "name": "python",
   "nbconvert_exporter": "python",
   "pygments_lexer": "ipython3",
   "version": "3.7.4"
  }
 },
 "nbformat": 4,
 "nbformat_minor": 4
}
