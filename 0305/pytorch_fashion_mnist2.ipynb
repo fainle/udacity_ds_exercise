{
 "cells": [
  {
   "cell_type": "code",
   "execution_count": 1,
   "metadata": {},
   "outputs": [],
   "source": [
    "import matplotlib.pyplot as plt\n",
    "import torch  \n",
    "import helper\n",
    "import numpy as np\n",
    "\n",
    "from torch import nn\n",
    "from torch import optim\n",
    "import torch.nn.functional as F\n",
    "from torchvision import datasets, transforms"
   ]
  },
  {
   "cell_type": "code",
   "execution_count": 2,
   "metadata": {},
   "outputs": [],
   "source": [
    "transform = transforms.Compose([\n",
    "    transforms.ToTensor(), \n",
    "    transforms.Normalize((0.5), (0.5))\n",
    "])\n",
    "\n",
    "data = datasets.FashionMNIST('data/', download=True, train=False, transform=transform)\n",
    "data_loader = torch.utils.data.DataLoader(data, batch_size=64, shuffle=True)\n",
    "test_loader = torch.utils.data.DataLoader(data, batch_size=64, shuffle=True)"
   ]
  },
  {
   "cell_type": "code",
   "execution_count": 3,
   "metadata": {},
   "outputs": [],
   "source": [
    "class Network(nn.Module):\n",
    "    \n",
    "    def __init__(self, input_size, output_size, hidden_layers, drop_p=0.5):\n",
    "        super().__init__()\n",
    "            \n",
    "        self.hidden_layers = nn.ModuleList([nn.Linear(input_size, hidden_layers[0])])\n",
    "        \n",
    "        hidder_sizes = zip(hidden_layers[:-1], hidden_layers[1:])\n",
    "        self.hidden_layers.extend([nn.Linear(h1, h2) for h1, h2 in hidder_sizes])\n",
    "        \n",
    "        self.output = nn.Linear(hidden_layers[-1], output_size)\n",
    "        \n",
    "        self.dropout = nn.Dropout(p=drop_p)\n",
    "        \n",
    "    def forward(self, x):\n",
    "        for linear in self.hidden_layers: # 输入层和隐藏层\n",
    "            x = F.relu(linear(x))  # s函数采用 relu函数\n",
    "            x = self.dropout(x) # 每次训练随机关闭部分节点\n",
    "        \n",
    "        x = self.output(x) # 输出层\n",
    "            \n",
    "        return F.log_softmax(x)  # log对数更好计算"
   ]
  },
  {
   "cell_type": "code",
   "execution_count": 11,
   "metadata": {},
   "outputs": [],
   "source": [
    "model = Network(784, 10, [512, 256, 128, 64], drop_p=0.5)\n",
    "criterion = nn.NLLLoss() # 对数交叉熵\n",
    "optimizer = optim.Adam(model.parameters(), lr=0.001) # adam优化器 对参数优化 学习率为0.001 Adam相对于随机梯度下降速度更快"
   ]
  },
  {
   "cell_type": "code",
   "execution_count": 5,
   "metadata": {},
   "outputs": [
    {
     "name": "stdout",
     "output_type": "stream",
     "text": [
      "Network(\n",
      "  (hidden_layers): ModuleList(\n",
      "    (0): Linear(in_features=784, out_features=128, bias=True)\n",
      "    (1): Linear(in_features=128, out_features=64, bias=True)\n",
      "  )\n",
      "  (output): Linear(in_features=64, out_features=10, bias=True)\n",
      "  (dropout): Dropout(p=0.5, inplace=False)\n",
      ")\n"
     ]
    }
   ],
   "source": [
    "print(model)"
   ]
  },
  {
   "cell_type": "code",
   "execution_count": 12,
   "metadata": {},
   "outputs": [],
   "source": [
    "def validation(model, testloader, criterion):\n",
    "    test_loss = 0\n",
    "    acc = 0\n",
    "    \n",
    "    for images, labels in test_loader:\n",
    "        \n",
    "        images.resize_(images.shape[0], 784)\n",
    "        output = model.forward(images)\n",
    "        test_loss += criterion(output, labels).item()\n",
    "        ps = torch.exp(output)\n",
    "        equality = (labels.data == ps.max(dim=1)[1])\n",
    "        acc += equality.type(torch.FloatTensor).mean()\n",
    "    \n",
    "    return test_loss, acc"
   ]
  },
  {
   "cell_type": "code",
   "execution_count": 21,
   "metadata": {},
   "outputs": [
    {
     "name": "stderr",
     "output_type": "stream",
     "text": [
      "/data/anaconda3/lib/python3.7/site-packages/ipykernel_launcher.py:22: UserWarning: Implicit dimension choice for log_softmax has been deprecated. Change the call to include dim=X as an argument.\n"
     ]
    },
    {
     "name": "stdout",
     "output_type": "stream",
     "text": [
      "Epoch: 1/4... Train loss: 0.806.. Test loss: 0.627.. Acc: 0.757..\n",
      "Epoch: 1/4... Train loss: 0.781.. Test loss: 0.602.. Acc: 0.768..\n",
      "Epoch: 1/4... Train loss: 0.789.. Test loss: 0.621.. Acc: 0.770..\n",
      "Epoch: 2/4... Train loss: 0.773.. Test loss: 0.629.. Acc: 0.752..\n",
      "Epoch: 2/4... Train loss: 0.761.. Test loss: 0.573.. Acc: 0.778..\n",
      "Epoch: 2/4... Train loss: 0.729.. Test loss: 0.590.. Acc: 0.771..\n",
      "Epoch: 2/4... Train loss: 0.747.. Test loss: 0.571.. Acc: 0.781..\n",
      "Epoch: 3/4... Train loss: 0.698.. Test loss: 0.603.. Acc: 0.763..\n",
      "Epoch: 3/4... Train loss: 0.710.. Test loss: 0.552.. Acc: 0.784..\n",
      "Epoch: 3/4... Train loss: 0.693.. Test loss: 0.581.. Acc: 0.769..\n",
      "Epoch: 3/4... Train loss: 0.720.. Test loss: 0.542.. Acc: 0.788..\n",
      "Epoch: 4/4... Train loss: 0.689.. Test loss: 0.544.. Acc: 0.789..\n",
      "Epoch: 4/4... Train loss: 0.689.. Test loss: 0.538.. Acc: 0.791..\n",
      "Epoch: 4/4... Train loss: 0.657.. Test loss: 0.517.. Acc: 0.795..\n",
      "Epoch: 4/4... Train loss: 0.656.. Test loss: 0.520.. Acc: 0.796..\n"
     ]
    }
   ],
   "source": [
    "epochs = 4\n",
    "steps = 0\n",
    "running_loss = 0\n",
    "print_every = 40\n",
    "\n",
    "for e in range(epochs):\n",
    "    model.train()\n",
    "    for images, labels in data_loader:\n",
    "        steps += 1\n",
    "\n",
    "        \n",
    "        images.resize_(images.size()[0], 784) # 转换张量为输入层张量\n",
    "        optimizer.zero_grad() # 重置反向传播梯度\n",
    "\n",
    "        output = model.forward(images) # 训练特征\n",
    "        loss = criterion(output, labels) # 计算交叉熵\n",
    "        loss.backward() # 传递梯度\n",
    "        optimizer.step()\n",
    "\n",
    "        running_loss += loss.item()\n",
    "    \n",
    "        if steps % print_every == 0:\n",
    "            model.eval()\n",
    "            with torch.no_grad(): # 关闭所有梯度\n",
    "                test_loss, acc = validation(model, test_loader, criterion)\n",
    "            \n",
    "            epoch = \"Epoch: {}/{}...\".format(e+1, epochs)\n",
    "            train_loss = \"Train loss: {:.3f}..\".format(running_loss / print_every)\n",
    "            test_loss = \"Test loss: {:.3f}..\".format(test_loss / len(test_loader))\n",
    "            acc = \"Acc: {:.3f}..\".format(acc / len(test_loader))\n",
    "            \n",
    "            print(epoch, train_loss, test_loss, acc)\n",
    "            running_loss = 0\n",
    "            model.train()\n",
    "            "
   ]
  },
  {
   "cell_type": "code",
   "execution_count": 22,
   "metadata": {},
   "outputs": [
    {
     "name": "stderr",
     "output_type": "stream",
     "text": [
      "/data/anaconda3/lib/python3.7/site-packages/ipykernel_launcher.py:22: UserWarning: Implicit dimension choice for log_softmax has been deprecated. Change the call to include dim=X as an argument.\n"
     ]
    },
    {
     "name": "stdout",
     "output_type": "stream",
     "text": [
      "tensor([[8.1475e-15, 1.1119e-12, 7.2495e-14, 7.8034e-14, 2.1223e-11, 1.0803e-04,\n",
      "         2.5612e-13, 2.8890e-03, 6.2057e-10, 9.9700e-01]])\n"
     ]
    },
    {
     "data": {
      "image/png": "[encoded data removed]",
      "text/plain": [
       "<Figure size 432x648 with 2 Axes>"
      ]
     },
     "metadata": {
      "needs_background": "light"
     },
     "output_type": "display_data"
    }
   ],
   "source": [
    "model.eval()\n",
    "data = iter(test_loader)\n",
    "images, labels = data.next()\n",
    "\n",
    "img = images[0]\n",
    "img = img.view(1, 784)\n",
    "\n",
    "with torch.no_grad():\n",
    "    output = model.forward(img)\n",
    "    \n",
    "ps = torch.exp(output)\n",
    "print(ps)\n",
    "\n",
    "helper.view_classify(img.view(1, 28, 28), ps, version='Fashion')"
   ]
  },
  {
   "cell_type": "code",
   "execution_count": null,
   "metadata": {},
   "outputs": [],
   "source": []
  }
 ],
 "metadata": {
  "kernelspec": {
   "display_name": "Python 3",
   "language": "python",
   "name": "python3"
  },
  "language_info": {
   "codemirror_mode": {
    "name": "ipython",
    "version": 3
   },
   "file_extension": ".py",
   "mimetype": "text/x-python",
   "name": "python",
   "nbconvert_exporter": "python",
   "pygments_lexer": "ipython3",
   "version": "3.7.4"
  }
 },
 "nbformat": 4,
 "nbformat_minor": 4
}
