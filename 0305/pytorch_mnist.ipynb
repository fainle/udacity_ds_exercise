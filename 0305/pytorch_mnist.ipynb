{
 "cells": [
  {
   "cell_type": "code",
   "execution_count": 47,
   "metadata": {},
   "outputs": [],
   "source": [
    "import numpy as np\n",
    "import torch\n",
    "import torch.optim as optim\n",
    "\n",
    "# import helper\n",
    "import matplotlib.pyplot as plt\n",
    "\n",
    "from torchvision import datasets, transforms"
   ]
  },
  {
   "cell_type": "code",
   "execution_count": 2,
   "metadata": {},
   "outputs": [],
   "source": [
    "transform = transforms.Compose([transforms.ToTensor(), transforms.Normalize((0.5), (0.5))])  # 标准化数据 灰度数据 只需要转换一个层 的数字到 -1, 1 之间（方便计算）"
   ]
  },
  {
   "cell_type": "code",
   "execution_count": 3,
   "metadata": {},
   "outputs": [],
   "source": [
    "x_train = datasets.MNIST('data/', download=True, transform=transform)  # 下载数据 执行张量转换"
   ]
  },
  {
   "cell_type": "code",
   "execution_count": 4,
   "metadata": {},
   "outputs": [],
   "source": [
    "x_train_loader = torch.utils.data.DataLoader(x_train, batch_size=64, shuffle=True)"
   ]
  },
  {
   "cell_type": "code",
   "execution_count": 5,
   "metadata": {},
   "outputs": [
    {
     "data": {
      "text/plain": [
       "<torch.utils.data.dataloader.DataLoader at 0x11c120210>"
      ]
     },
     "execution_count": 5,
     "metadata": {},
     "output_type": "execute_result"
    }
   ],
   "source": [
    "x_train_loader"
   ]
  },
  {
   "cell_type": "code",
   "execution_count": 6,
   "metadata": {},
   "outputs": [],
   "source": [
    "dataiter = iter(x_train_loader)"
   ]
  },
  {
   "cell_type": "code",
   "execution_count": 9,
   "metadata": {},
   "outputs": [],
   "source": [
    "images, lable = dataiter.next()"
   ]
  },
  {
   "cell_type": "code",
   "execution_count": 14,
   "metadata": {},
   "outputs": [
    {
     "data": {
      "text/plain": [
       "<matplotlib.image.AxesImage at 0x1209d9210>"
      ]
     },
     "execution_count": 14,
     "metadata": {},
     "output_type": "execute_result"
    },
    {
     "data": {
      "image/png": "[encoded data removed]",
      "text/plain": [
       "<Figure size 432x288 with 1 Axes>"
      ]
     },
     "metadata": {
      "needs_background": "light"
     },
     "output_type": "display_data"
    }
   ],
   "source": [
    "plt.imshow(images[0].numpy().squeeze(), cmap='Greys_r')"
   ]
  },
  {
   "cell_type": "code",
   "execution_count": 27,
   "metadata": {},
   "outputs": [],
   "source": [
    "from torch import nn\n",
    "import torch.nn.functional as F\n",
    "\n",
    "\n",
    "class NetWork(nn.Module):\n",
    "    \n",
    "    def __init__(self):\n",
    "        super().__init__()\n",
    "        \n",
    "        self.fc1 = nn.Linear(784, 128)\n",
    "        self.fc2 = nn.Linear(128, 64)\n",
    "        self.fc3 = nn.Linear(64, 10)\n",
    "        \n",
    "    def forward(self, x):\n",
    "        x = self.fc1(x)\n",
    "        x = F.relu(x)\n",
    "        x = self.fc2(x)\n",
    "        x = F.relu(x)\n",
    "        x = self.fc3(x)\n",
    "        x = F.softmax(x, dim=1)\n",
    "        \n",
    "        return x"
   ]
  },
  {
   "cell_type": "code",
   "execution_count": 28,
   "metadata": {},
   "outputs": [
    {
     "data": {
      "text/plain": [
       "NetWork(\n",
       "  (fc1): Linear(in_features=784, out_features=128, bias=True)\n",
       "  (fc2): Linear(in_features=128, out_features=64, bias=True)\n",
       "  (fc3): Linear(in_features=64, out_features=10, bias=True)\n",
       ")"
      ]
     },
     "execution_count": 28,
     "metadata": {},
     "output_type": "execute_result"
    }
   ],
   "source": [
    "model = NetWork()\n",
    "model"
   ]
  },
  {
   "cell_type": "code",
   "execution_count": 31,
   "metadata": {},
   "outputs": [],
   "source": [
    "images, lable = dataiter.next()\n",
    "images.resize_(64, 1, 784)\n",
    "\n",
    "ps = model.forward(images[0])"
   ]
  },
  {
   "cell_type": "code",
   "execution_count": 32,
   "metadata": {},
   "outputs": [
    {
     "data": {
      "text/plain": [
       "tensor([[0.1044, 0.1211, 0.0812, 0.0944, 0.0928, 0.1160, 0.1020, 0.1004, 0.0880,\n",
       "         0.0998]], grad_fn=<SoftmaxBackward>)"
      ]
     },
     "execution_count": 32,
     "metadata": {},
     "output_type": "execute_result"
    }
   ],
   "source": [
    "ps"
   ]
  },
  {
   "cell_type": "code",
   "execution_count": 36,
   "metadata": {},
   "outputs": [
    {
     "data": {
      "text/plain": [
       "<matplotlib.image.AxesImage at 0x11fae4b10>"
      ]
     },
     "execution_count": 36,
     "metadata": {},
     "output_type": "execute_result"
    },
    {
     "data": {
      "image/png": "[encoded data removed]",
      "text/plain": [
       "<Figure size 432x288 with 1 Axes>"
      ]
     },
     "metadata": {
      "needs_background": "light"
     },
     "output_type": "display_data"
    }
   ],
   "source": [
    "plt.imshow(images[0].view(1, 28, 28).squeeze(), cmap='Greys_r')"
   ]
  },
  {
   "cell_type": "code",
   "execution_count": 37,
   "metadata": {},
   "outputs": [
    {
     "name": "stdout",
     "output_type": "stream",
     "text": [
      "/bin/sh: wget: command not found\n"
     ]
    }
   ],
   "source": [
    "!wget https://raw.githubusercontent.com/udacity/deep-learning-v2-pytorch/3bd7dea850e936d8cb44adda8200e4e2b5d627e3/intro-to-pytorch/helper.py"
   ]
  },
  {
   "cell_type": "code",
   "execution_count": 38,
   "metadata": {},
   "outputs": [],
   "source": [
    "import helper"
   ]
  },
  {
   "cell_type": "code",
   "execution_count": 39,
   "metadata": {},
   "outputs": [
    {
     "data": {
      "image/png": "[encoded data removed]",
      "text/plain": [
       "<Figure size 432x648 with 2 Axes>"
      ]
     },
     "metadata": {
      "needs_background": "light"
     },
     "output_type": "display_data"
    }
   ],
   "source": [
    "helper.view_classify(images[0].view(1, 28, 28), ps)"
   ]
  },
  {
   "cell_type": "code",
   "execution_count": 40,
   "metadata": {},
   "outputs": [],
   "source": [
    "from collections import OrderedDict\n",
    "\n",
    "input_size = 784\n",
    "hidden_size = [128, 64]\n",
    "output_size = 10\n",
    "\n",
    "model = nn.Sequential(OrderedDict([\n",
    "    ('f1', nn.Linear(784, 128)),\n",
    "    ('relu1', nn.ReLU()),\n",
    "    ('f2', nn.Linear(128, 64)),\n",
    "    ('relu2', nn.ReLU()),\n",
    "    ('output', nn.Linear(64, 10)),\n",
    "    ('softmax', nn.Softmax()),\n",
    "]))"
   ]
  },
  {
   "cell_type": "code",
   "execution_count": 41,
   "metadata": {},
   "outputs": [
    {
     "data": {
      "text/plain": [
       "Sequential(\n",
       "  (f1): Linear(in_features=784, out_features=128, bias=True)\n",
       "  (relu1): ReLU()\n",
       "  (f2): Linear(in_features=128, out_features=64, bias=True)\n",
       "  (relu2): ReLU()\n",
       "  (output): Linear(in_features=64, out_features=10, bias=True)\n",
       "  (softmax): Softmax(dim=None)\n",
       ")"
      ]
     },
     "execution_count": 41,
     "metadata": {},
     "output_type": "execute_result"
    }
   ],
   "source": [
    "model"
   ]
  },
  {
   "cell_type": "code",
   "execution_count": 42,
   "metadata": {},
   "outputs": [],
   "source": [
    "model = nn.Sequential(OrderedDict([\n",
    "    ('f1', nn.Linear(784, 400)),\n",
    "    ('relu1', nn.ReLU()),\n",
    "    ('f2', nn.Linear(400, 200)),\n",
    "    ('relu2', nn.ReLU()),\n",
    "    ('f3', nn.Linear(200, 100)),\n",
    "    ('relu3', nn.ReLU()),\n",
    "    ('output', nn.Linear(100, 10)),\n",
    "    ('softmax', nn.Softmax()),\n",
    "]))"
   ]
  },
  {
   "cell_type": "code",
   "execution_count": 43,
   "metadata": {},
   "outputs": [
    {
     "data": {
      "text/plain": [
       "Sequential(\n",
       "  (f1): Linear(in_features=784, out_features=400, bias=True)\n",
       "  (relu1): ReLU()\n",
       "  (f2): Linear(in_features=400, out_features=200, bias=True)\n",
       "  (relu2): ReLU()\n",
       "  (f3): Linear(in_features=200, out_features=100, bias=True)\n",
       "  (relu3): ReLU()\n",
       "  (output): Linear(in_features=100, out_features=10, bias=True)\n",
       "  (softmax): Softmax(dim=None)\n",
       ")"
      ]
     },
     "execution_count": 43,
     "metadata": {},
     "output_type": "execute_result"
    }
   ],
   "source": [
    "model"
   ]
  },
  {
   "cell_type": "code",
   "execution_count": 48,
   "metadata": {},
   "outputs": [],
   "source": [
    "criterion = nn.CrossEntropyLoss() # 交叉熵损失函数\n",
    "optimizer = optim.SGD(model.parameters(), lr=0.01) # 随机梯度下降，学习率0.01"
   ]
  },
  {
   "cell_type": "code",
   "execution_count": 50,
   "metadata": {},
   "outputs": [
    {
     "name": "stdout",
     "output_type": "stream",
     "text": [
      "before:  Parameter containing:\n",
      "tensor([[-0.0315, -0.0263,  0.0284,  ...,  0.0325,  0.0024, -0.0082],\n",
      "        [ 0.0270, -0.0088,  0.0283,  ...,  0.0228, -0.0169, -0.0273],\n",
      "        [ 0.0081,  0.0235,  0.0163,  ...,  0.0177, -0.0301, -0.0329],\n",
      "        ...,\n",
      "        [-0.0049,  0.0061,  0.0173,  ..., -0.0218,  0.0353,  0.0163],\n",
      "        [-0.0281, -0.0141,  0.0243,  ...,  0.0020, -0.0107, -0.0224],\n",
      "        [-0.0299,  0.0237, -0.0320,  ..., -0.0121, -0.0203, -0.0214]],\n",
      "       requires_grad=True)\n"
     ]
    }
   ],
   "source": [
    "print('before: ', model.f1.weight)"
   ]
  },
  {
   "cell_type": "code",
   "execution_count": 66,
   "metadata": {},
   "outputs": [
    {
     "name": "stdout",
     "output_type": "stream",
     "text": [
      "gradient - tensor([[-6.9122e-05, -6.9122e-05, -6.9122e-05,  ..., -6.9121e-05,\n",
      "         -6.9121e-05, -6.9121e-05],\n",
      "        [ 4.6769e-06,  4.6769e-06,  4.6769e-06,  ...,  4.6769e-06,\n",
      "          4.6769e-06,  4.6769e-06],\n",
      "        [-8.5360e-06, -8.5360e-06, -8.5360e-06,  ..., -8.5359e-06,\n",
      "         -8.5359e-06, -8.5359e-06],\n",
      "        ...,\n",
      "        [-4.8625e-05, -4.8625e-05, -4.8625e-05,  ..., -4.8625e-05,\n",
      "         -4.8625e-05, -4.8625e-05],\n",
      "        [ 5.1869e-05,  5.1869e-05,  5.1869e-05,  ...,  5.1869e-05,\n",
      "          5.1869e-05,  5.1869e-05],\n",
      "        [-1.6315e-05, -1.6315e-05, -1.6315e-05,  ..., -1.6315e-05,\n",
      "         -1.6315e-05, -1.6315e-05]])\n",
      "update weight:  Parameter containing:\n",
      "tensor([[-0.0315, -0.0263,  0.0284,  ...,  0.0325,  0.0024, -0.0082],\n",
      "        [ 0.0270, -0.0088,  0.0283,  ...,  0.0228, -0.0169, -0.0273],\n",
      "        [ 0.0081,  0.0235,  0.0163,  ...,  0.0177, -0.0301, -0.0329],\n",
      "        ...,\n",
      "        [-0.0049,  0.0061,  0.0173,  ..., -0.0218,  0.0353,  0.0163],\n",
      "        [-0.0281, -0.0141,  0.0243,  ...,  0.0020, -0.0107, -0.0224],\n",
      "        [-0.0299,  0.0237, -0.0320,  ..., -0.0121, -0.0203, -0.0214]],\n",
      "       requires_grad=True)\n"
     ]
    }
   ],
   "source": [
    "images, labels = next(iter(x_train_loader))\n",
    "images.resize_(64, 784)\n",
    "\n",
    "optimizer.zero_grad()  # 归0梯度\n",
    "\n",
    "output = model.forward(images) # 反向传播\n",
    "loss = criterion(output, labels) # 计算损失loss\n",
    "loss.backward() # 更新所有权重\n",
    "\n",
    "print('gradient -', model.f1.weight.grad)\n",
    "optimizer.step()\n",
    "print('update weight: ', model.f1.weight)"
   ]
  },
  {
   "cell_type": "code",
   "execution_count": 83,
   "metadata": {},
   "outputs": [
    {
     "name": "stdout",
     "output_type": "stream",
     "text": [
      "epoch: 1/3 loss: 0.0431\n",
      "epoch: 1/3 loss: 0.0459\n",
      "epoch: 1/3 loss: 0.0459\n",
      "epoch: 1/3 loss: 0.0448\n",
      "epoch: 1/3 loss: 0.0519\n",
      "epoch: 1/3 loss: 0.0502\n",
      "epoch: 1/3 loss: 0.0545\n",
      "epoch: 1/3 loss: 0.0514\n",
      "epoch: 1/3 loss: 0.0568\n",
      "epoch: 1/3 loss: 0.0561\n",
      "epoch: 1/3 loss: 0.0580\n",
      "epoch: 1/3 loss: 0.0568\n",
      "epoch: 1/3 loss: 0.0565\n",
      "epoch: 1/3 loss: 0.0580\n",
      "epoch: 1/3 loss: 0.0592\n",
      "epoch: 1/3 loss: 0.0565\n",
      "epoch: 1/3 loss: 0.0588\n",
      "epoch: 1/3 loss: 0.0596\n",
      "epoch: 1/3 loss: 0.0596\n",
      "epoch: 1/3 loss: 0.0572\n",
      "epoch: 1/3 loss: 0.0596\n",
      "epoch: 1/3 loss: 0.0588\n",
      "epoch: 1/3 loss: 0.0588\n",
      "epoch: 2/3 loss: 0.0596\n",
      "epoch: 2/3 loss: 0.0600\n",
      "epoch: 2/3 loss: 0.0596\n",
      "epoch: 2/3 loss: 0.0600\n",
      "epoch: 2/3 loss: 0.0600\n",
      "epoch: 2/3 loss: 0.0576\n",
      "epoch: 2/3 loss: 0.0592\n",
      "epoch: 2/3 loss: 0.0604\n",
      "epoch: 2/3 loss: 0.0596\n",
      "epoch: 2/3 loss: 0.0584\n",
      "epoch: 2/3 loss: 0.0592\n",
      "epoch: 2/3 loss: 0.0580\n",
      "epoch: 2/3 loss: 0.0588\n",
      "epoch: 2/3 loss: 0.0584\n",
      "epoch: 2/3 loss: 0.0596\n",
      "epoch: 2/3 loss: 0.0584\n",
      "epoch: 2/3 loss: 0.0596\n",
      "epoch: 2/3 loss: 0.0588\n",
      "epoch: 2/3 loss: 0.0588\n",
      "epoch: 2/3 loss: 0.0580\n",
      "epoch: 2/3 loss: 0.0572\n",
      "epoch: 2/3 loss: 0.0592\n",
      "epoch: 2/3 loss: 0.0580\n",
      "epoch: 3/3 loss: 0.0584\n",
      "epoch: 3/3 loss: 0.0592\n",
      "epoch: 3/3 loss: 0.0600\n",
      "epoch: 3/3 loss: 0.0592\n",
      "epoch: 3/3 loss: 0.0588\n",
      "epoch: 3/3 loss: 0.0596\n",
      "epoch: 3/3 loss: 0.0600\n",
      "epoch: 3/3 loss: 0.0584\n",
      "epoch: 3/3 loss: 0.0600\n",
      "epoch: 3/3 loss: 0.0615\n",
      "epoch: 3/3 loss: 0.0592\n",
      "epoch: 3/3 loss: 0.0592\n",
      "epoch: 3/3 loss: 0.0580\n",
      "epoch: 3/3 loss: 0.0607\n",
      "epoch: 3/3 loss: 0.0584\n",
      "epoch: 3/3 loss: 0.0596\n",
      "epoch: 3/3 loss: 0.0592\n",
      "epoch: 3/3 loss: 0.0592\n",
      "epoch: 3/3 loss: 0.0584\n",
      "epoch: 3/3 loss: 0.0576\n",
      "epoch: 3/3 loss: 0.0588\n",
      "epoch: 3/3 loss: 0.0607\n",
      "epoch: 3/3 loss: 0.0588\n",
      "epoch: 3/3 loss: 0.0604\n"
     ]
    }
   ],
   "source": [
    "epochs = 3\n",
    "print_every = 40\n",
    "steps = 0\n",
    "for e in range(epochs):\n",
    "    running_loss = 0\n",
    "    for images, labels in x_train_loader:\n",
    "        steps += 1\n",
    "        \n",
    "        images.resize_(images.shape[0], 784)\n",
    "        optimizer.zero_grad()\n",
    "        output = model.forward(images)\n",
    "        loss = criterion(output, labels)\n",
    "        loss.backward()\n",
    "        optimizer.step()\n",
    "        \n",
    "        running_loss = loss.item()\n",
    "        \n",
    "        if steps % print_every == 0:\n",
    "            print('epoch: {}/{}'.format(e+1, epochs), 'loss: {:.4f}'.format(running_loss / print_every))"
   ]
  },
  {
   "cell_type": "code",
   "execution_count": 89,
   "metadata": {},
   "outputs": [
    {
     "data": {
      "image/png": "[encoded data removed]",
      "text/plain": [
       "<Figure size 432x648 with 2 Axes>"
      ]
     },
     "metadata": {
      "needs_background": "light"
     },
     "output_type": "display_data"
    }
   ],
   "source": [
    "images, labels = next(iter(x_train_loader))\n",
    "\n",
    "img = images[2].view(1, 784)\n",
    "with torch.no_grad():\n",
    "    logits = model.forward(img)\n",
    "    \n",
    "ps = F.softmax(logits, dim=1)\n",
    "\n",
    "helper.view_classify(img.view(1, 28, 28), ps)"
   ]
  },
  {
   "cell_type": "code",
   "execution_count": null,
   "metadata": {},
   "outputs": [],
   "source": []
  },
  {
   "cell_type": "code",
   "execution_count": null,
   "metadata": {},
   "outputs": [],
   "source": []
  }
 ],
 "metadata": {
  "kernelspec": {
   "display_name": "Python 3",
   "language": "python",
   "name": "python3"
  },
  "language_info": {
   "codemirror_mode": {
    "name": "ipython",
    "version": 3
   },
   "file_extension": ".py",
   "mimetype": "text/x-python",
   "name": "python",
   "nbconvert_exporter": "python",
   "pygments_lexer": "ipython3",
   "version": "3.7.4"
  }
 },
 "nbformat": 4,
 "nbformat_minor": 4
}
