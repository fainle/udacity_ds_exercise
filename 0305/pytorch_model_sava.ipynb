{
 "cells": [
  {
   "cell_type": "code",
   "execution_count": 1,
   "metadata": {},
   "outputs": [],
   "source": [
    "import matplotlib.pyplot as plt\n",
    "import numpy as np\n",
    "import torch\n",
    "import helper\n",
    "\n",
    "from torch import nn\n",
    "from torch import optim\n",
    "from torch.nn import functional as F\n",
    "from torchvision import datasets, transforms\n",
    "\n",
    "import fc_model\n",
    "\n",
    "transform = transforms.Compose([transforms.ToTensor(), transforms.Normalize((0.5), (0.5))])\n",
    "\n",
    "train_data = datasets.FashionMNIST('data', download=True, train=True, transform=transform)\n",
    "test_data = datasets.FashionMNIST('data', download=True, train=False, transform=transform)\n",
    "\n",
    "train_loader = torch.utils.data.DataLoader(train_data, batch_size=64, shuffle=True)\n",
    "test_loader = torch.utils.data.DataLoader(train_data, batch_size=64, shuffle=True)\n",
    "\n",
    "def validation(model, testloader, criterion):\n",
    "    accuracy = 0\n",
    "    test_loss = 0\n",
    "    for images, labels in testloader:\n",
    "\n",
    "        images = images.resize_(images.size()[0], 784)\n",
    "\n",
    "        output = model.forward(images)\n",
    "        test_loss += criterion(output, labels).item()\n",
    "\n",
    "        ## Calculating the accuracy \n",
    "        # Model's output is log-softmax, take exponential to get the probabilities\n",
    "        ps = torch.exp(output)\n",
    "        # Class with highest probability is our predicted class, compare with true label\n",
    "        equality = (labels.data == ps.max(1)[1])\n",
    "        # Accuracy is number of correct predictions divided by all predictions, just take the mean\n",
    "        accuracy += equality.type_as(torch.FloatTensor()).mean()\n",
    "\n",
    "    return test_loss, accuracy\n",
    "\n",
    "\n",
    "def train(model, trainloader, testloader, criterion, optimizer, epochs=2, print_every=40):\n",
    "    \n",
    "    steps = 0\n",
    "    running_loss = 0\n",
    "    for e in range(epochs):\n",
    "        # Model in training mode, dropout is on\n",
    "        model.train()\n",
    "        for images, labels in trainloader:\n",
    "            steps += 1\n",
    "            \n",
    "            # Flatten images into a 784 long vector\n",
    "            images.resize_(images.size()[0], 784)\n",
    "            \n",
    "            optimizer.zero_grad()\n",
    "            \n",
    "            output = model.forward(images)\n",
    "            loss = criterion(output, labels)\n",
    "            loss.backward()\n",
    "            optimizer.step()\n",
    "            \n",
    "            running_loss += loss.item()\n",
    "\n",
    "            if steps % print_every == 0:\n",
    "                # Model in inference mode, dropout is off\n",
    "                model.eval()\n",
    "                \n",
    "                # Turn off gradients for validation, will speed up inference\n",
    "                with torch.no_grad():\n",
    "                    test_loss, accuracy = validation(model, testloader, criterion)\n",
    "                \n",
    "                print(\"Epoch: {}/{}.. \".format(e+1, epochs),\n",
    "                      \"Training Loss: {:.3f}.. \".format(running_loss/print_every),\n",
    "                      \"Test Loss: {:.3f}.. \".format(test_loss/len(testloader)),\n",
    "                      \"Test Accuracy: {:.3f}\".format(accuracy/len(testloader)))\n",
    "                \n",
    "                running_loss = 0\n",
    "                \n",
    "                # Make sure dropout and grads are on for training\n",
    "                model.train()\n",
    "\n",
    "\n",
    "model = fc_model.Network(784, 10, [256, 128, 64])\n",
    "criterion = nn.NLLLoss()\n",
    "optimizer = optim.Adam(model.parameters(), lr=0.001)"
   ]
  },
  {
   "cell_type": "code",
   "execution_count": 2,
   "metadata": {},
   "outputs": [
    {
     "name": "stderr",
     "output_type": "stream",
     "text": [
      "/Users/fainle/ud/data_scientist/0305/fc_model.py:25: UserWarning: Implicit dimension choice for log_softmax has been deprecated. Change the call to include dim=X as an argument.\n",
      "  return F.log_softmax(x)\n"
     ]
    },
    {
     "name": "stdout",
     "output_type": "stream",
     "text": [
      "Epoch: 1/2..  Training Loss: 1.982..  Test Loss: 1.286..  Test Accuracy: 0.551\n",
      "Epoch: 1/2..  Training Loss: 1.346..  Test Loss: 0.884..  Test Accuracy: 0.682\n",
      "Epoch: 1/2..  Training Loss: 1.102..  Test Loss: 0.734..  Test Accuracy: 0.732\n",
      "Epoch: 1/2..  Training Loss: 0.941..  Test Loss: 0.705..  Test Accuracy: 0.726\n",
      "Epoch: 1/2..  Training Loss: 0.879..  Test Loss: 0.651..  Test Accuracy: 0.735\n",
      "Epoch: 1/2..  Training Loss: 0.861..  Test Loss: 0.624..  Test Accuracy: 0.763\n",
      "Epoch: 1/2..  Training Loss: 0.777..  Test Loss: 0.602..  Test Accuracy: 0.766\n",
      "Epoch: 1/2..  Training Loss: 0.780..  Test Loss: 0.598..  Test Accuracy: 0.772\n",
      "Epoch: 1/2..  Training Loss: 0.744..  Test Loss: 0.566..  Test Accuracy: 0.783\n",
      "Epoch: 1/2..  Training Loss: 0.751..  Test Loss: 0.574..  Test Accuracy: 0.778\n",
      "Epoch: 1/2..  Training Loss: 0.739..  Test Loss: 0.558..  Test Accuracy: 0.794\n",
      "Epoch: 1/2..  Training Loss: 0.692..  Test Loss: 0.555..  Test Accuracy: 0.786\n",
      "Epoch: 1/2..  Training Loss: 0.708..  Test Loss: 0.558..  Test Accuracy: 0.793\n",
      "Epoch: 1/2..  Training Loss: 0.662..  Test Loss: 0.538..  Test Accuracy: 0.809\n",
      "Epoch: 1/2..  Training Loss: 0.650..  Test Loss: 0.525..  Test Accuracy: 0.801\n",
      "Epoch: 1/2..  Training Loss: 0.698..  Test Loss: 0.529..  Test Accuracy: 0.803\n",
      "Epoch: 1/2..  Training Loss: 0.672..  Test Loss: 0.503..  Test Accuracy: 0.815\n",
      "Epoch: 1/2..  Training Loss: 0.660..  Test Loss: 0.504..  Test Accuracy: 0.812\n",
      "Epoch: 1/2..  Training Loss: 0.625..  Test Loss: 0.495..  Test Accuracy: 0.820\n",
      "Epoch: 1/2..  Training Loss: 0.624..  Test Loss: 0.498..  Test Accuracy: 0.822\n",
      "Epoch: 1/2..  Training Loss: 0.601..  Test Loss: 0.485..  Test Accuracy: 0.832\n",
      "Epoch: 1/2..  Training Loss: 0.620..  Test Loss: 0.479..  Test Accuracy: 0.818\n",
      "Epoch: 1/2..  Training Loss: 0.624..  Test Loss: 0.493..  Test Accuracy: 0.821\n",
      "Epoch: 2/2..  Training Loss: 0.616..  Test Loss: 0.474..  Test Accuracy: 0.823\n",
      "Epoch: 2/2..  Training Loss: 0.648..  Test Loss: 0.487..  Test Accuracy: 0.823\n",
      "Epoch: 2/2..  Training Loss: 0.610..  Test Loss: 0.491..  Test Accuracy: 0.816\n",
      "Epoch: 2/2..  Training Loss: 0.608..  Test Loss: 0.484..  Test Accuracy: 0.819\n",
      "Epoch: 2/2..  Training Loss: 0.622..  Test Loss: 0.464..  Test Accuracy: 0.833\n",
      "Epoch: 2/2..  Training Loss: 0.624..  Test Loss: 0.473..  Test Accuracy: 0.822\n",
      "Epoch: 2/2..  Training Loss: 0.604..  Test Loss: 0.462..  Test Accuracy: 0.833\n",
      "Epoch: 2/2..  Training Loss: 0.590..  Test Loss: 0.460..  Test Accuracy: 0.832\n",
      "Epoch: 2/2..  Training Loss: 0.610..  Test Loss: 0.455..  Test Accuracy: 0.832\n",
      "Epoch: 2/2..  Training Loss: 0.592..  Test Loss: 0.472..  Test Accuracy: 0.831\n",
      "Epoch: 2/2..  Training Loss: 0.562..  Test Loss: 0.448..  Test Accuracy: 0.832\n",
      "Epoch: 2/2..  Training Loss: 0.579..  Test Loss: 0.458..  Test Accuracy: 0.828\n",
      "Epoch: 2/2..  Training Loss: 0.549..  Test Loss: 0.443..  Test Accuracy: 0.836\n",
      "Epoch: 2/2..  Training Loss: 0.579..  Test Loss: 0.436..  Test Accuracy: 0.840\n",
      "Epoch: 2/2..  Training Loss: 0.570..  Test Loss: 0.439..  Test Accuracy: 0.839\n",
      "Epoch: 2/2..  Training Loss: 0.611..  Test Loss: 0.460..  Test Accuracy: 0.839\n",
      "Epoch: 2/2..  Training Loss: 0.611..  Test Loss: 0.440..  Test Accuracy: 0.840\n",
      "Epoch: 2/2..  Training Loss: 0.585..  Test Loss: 0.429..  Test Accuracy: 0.842\n",
      "Epoch: 2/2..  Training Loss: 0.583..  Test Loss: 0.442..  Test Accuracy: 0.839\n",
      "Epoch: 2/2..  Training Loss: 0.558..  Test Loss: 0.440..  Test Accuracy: 0.842\n",
      "Epoch: 2/2..  Training Loss: 0.622..  Test Loss: 0.451..  Test Accuracy: 0.835\n",
      "Epoch: 2/2..  Training Loss: 0.571..  Test Loss: 0.436..  Test Accuracy: 0.838\n",
      "Epoch: 2/2..  Training Loss: 0.580..  Test Loss: 0.435..  Test Accuracy: 0.840\n"
     ]
    }
   ],
   "source": [
    "train(model, train_loader, test_loader, criterion, optimizer)"
   ]
  },
  {
   "cell_type": "code",
   "execution_count": 3,
   "metadata": {},
   "outputs": [
    {
     "data": {
      "text/plain": [
       "<matplotlib.axes._subplots.AxesSubplot at 0x10b709e90>"
      ]
     },
     "execution_count": 3,
     "metadata": {},
     "output_type": "execute_result"
    },
    {
     "data": {
      "image/png": "[encoded data removed]",
      "text/plain": [
       "<Figure size 432x288 with 1 Axes>"
      ]
     },
     "metadata": {
      "needs_background": "light"
     },
     "output_type": "display_data"
    }
   ],
   "source": [
    "image, label = next(iter(train_loader))\n",
    "helper.imshow(image[0])"
   ]
  },
  {
   "cell_type": "code",
   "execution_count": 5,
   "metadata": {},
   "outputs": [
    {
     "name": "stdout",
     "output_type": "stream",
     "text": [
      "odict_keys(['hidden_layers.0.weight', 'hidden_layers.0.bias', 'hidden_layers.1.weight', 'hidden_layers.1.bias', 'hidden_layers.2.weight', 'hidden_layers.2.bias', 'output.weight', 'output.bias'])\n"
     ]
    }
   ],
   "source": [
    "print(model.state_dict().keys())"
   ]
  },
  {
   "cell_type": "code",
   "execution_count": 6,
   "metadata": {},
   "outputs": [],
   "source": [
    "torch.save(model.state_dict(), 'model.pth')"
   ]
  },
  {
   "cell_type": "code",
   "execution_count": 7,
   "metadata": {},
   "outputs": [],
   "source": [
    "state_dict = torch.load('model.pth')"
   ]
  },
  {
   "cell_type": "code",
   "execution_count": 9,
   "metadata": {},
   "outputs": [
    {
     "data": {
      "text/plain": [
       "<All keys matched successfully>"
      ]
     },
     "execution_count": 9,
     "metadata": {},
     "output_type": "execute_result"
    }
   ],
   "source": [
    "model.load_state_dict(state_dict)"
   ]
  },
  {
   "cell_type": "code",
   "execution_count": 10,
   "metadata": {},
   "outputs": [
    {
     "data": {
      "text/plain": [
       "Network(\n",
       "  (hidden_layers): ModuleList(\n",
       "    (0): Linear(in_features=784, out_features=256, bias=True)\n",
       "    (1): Linear(in_features=256, out_features=128, bias=True)\n",
       "    (2): Linear(in_features=128, out_features=64, bias=True)\n",
       "  )\n",
       "  (output): Linear(in_features=64, out_features=10, bias=True)\n",
       "  (dropout): Dropout(p=0.5, inplace=False)\n",
       ")"
      ]
     },
     "execution_count": 10,
     "metadata": {},
     "output_type": "execute_result"
    }
   ],
   "source": [
    "model"
   ]
  },
  {
   "cell_type": "code",
   "execution_count": 12,
   "metadata": {},
   "outputs": [],
   "source": [
    "checkpoint = {'input_size': 784, \n",
    "              'output_size': 10, \n",
    "              'hidden_layers': [each.out_features for each in model.hidden_layers],\n",
    "              'state_dict': model.state_dict()}\n",
    "\n",
    "torch.save(checkpoint, 'checkpoint.pth')"
   ]
  },
  {
   "cell_type": "code",
   "execution_count": 13,
   "metadata": {},
   "outputs": [],
   "source": [
    "def load_checkpint(filepath):\n",
    "    checkpoint = torch.load(filepath)\n",
    "    \n",
    "    model = fc_model.Network(\n",
    "        checkpoint['input_size'],\n",
    "        checkpoint['output_size'],\n",
    "        checkpoint['hidden_layers'],\n",
    "    )\n",
    "    \n",
    "    model.load_state_dict(checkpoint['state_dict'])\n",
    "    \n",
    "    return model"
   ]
  },
  {
   "cell_type": "code",
   "execution_count": 14,
   "metadata": {},
   "outputs": [],
   "source": [
    "model = load_checkpint('checkpoint.pth')"
   ]
  },
  {
   "cell_type": "code",
   "execution_count": 15,
   "metadata": {},
   "outputs": [
    {
     "data": {
      "text/plain": [
       "Network(\n",
       "  (hidden_layers): ModuleList(\n",
       "    (0): Linear(in_features=784, out_features=256, bias=True)\n",
       "    (1): Linear(in_features=256, out_features=128, bias=True)\n",
       "    (2): Linear(in_features=128, out_features=64, bias=True)\n",
       "  )\n",
       "  (output): Linear(in_features=64, out_features=10, bias=True)\n",
       "  (dropout): Dropout(p=0.5, inplace=False)\n",
       ")"
      ]
     },
     "execution_count": 15,
     "metadata": {},
     "output_type": "execute_result"
    }
   ],
   "source": [
    "model"
   ]
  },
  {
   "cell_type": "code",
   "execution_count": null,
   "metadata": {},
   "outputs": [],
   "source": []
  }
 ],
 "metadata": {
  "kernelspec": {
   "display_name": "Python 3",
   "language": "python",
   "name": "python3"
  },
  "language_info": {
   "codemirror_mode": {
    "name": "ipython",
    "version": 3
   },
   "file_extension": ".py",
   "mimetype": "text/x-python",
   "name": "python",
   "nbconvert_exporter": "python",
   "pygments_lexer": "ipython3",
   "version": "3.7.4"
  }
 },
 "nbformat": 4,
 "nbformat_minor": 4
}
